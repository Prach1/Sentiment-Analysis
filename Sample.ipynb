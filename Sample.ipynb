{
  "nbformat": 4,
  "nbformat_minor": 0,
  "metadata": {
    "colab": {
      "name": "Untitled1.ipynb",
      "version": "0.3.2",
      "provenance": [],
      "include_colab_link": true
    },
    "kernelspec": {
      "name": "python3",
      "display_name": "Python 3"
    }
  },
  "cells": [
    {
      "cell_type": "markdown",
      "metadata": {
        "id": "view-in-github",
        "colab_type": "text"
      },
      "source": [
        "<a href=\"https://colab.research.google.com/github/binny-mathew/IITKGP_CS69002_Spring_2019/blob/master/Sample.ipynb\" target=\"_parent\"><img src=\"https://colab.research.google.com/assets/colab-badge.svg\" alt=\"Open In Colab\"/></a>"
      ]
    },
    {
      "metadata": {
        "id": "GvYHwzMigOg9",
        "colab_type": "text"
      },
      "cell_type": "markdown",
      "source": [
        "# Movie Review Sentiment Analysis"
      ]
    },
    {
      "metadata": {
        "id": "hJRJTkHYgbNm",
        "colab_type": "text"
      },
      "cell_type": "markdown",
      "source": [
        "## Import Header files"
      ]
    },
    {
      "metadata": {
        "id": "FhEievieSXKJ",
        "colab_type": "code",
        "colab": {}
      },
      "cell_type": "code",
      "source": [
        "import torch\n",
        "import pandas as pd\n",
        "import numpy as np"
      ],
      "execution_count": 0,
      "outputs": []
    },
    {
      "metadata": {
        "id": "BD18oPehUVrj",
        "colab_type": "code",
        "outputId": "d91e8d4e-4b81-47f1-d009-4d7f856d32a5",
        "colab": {
          "base_uri": "https://localhost:8080/",
          "height": 35
        }
      },
      "cell_type": "code",
      "source": [
        "print('Welcome to Computing Lab 2. The current PyTorch version is ', torch.__version__)"
      ],
      "execution_count": 4,
      "outputs": [
        {
          "output_type": "stream",
          "text": [
            "Welcome to Computing Lab 2. The current PyTorch version is  1.0.1.post2\n"
          ],
          "name": "stdout"
        }
      ]
    },
    {
      "metadata": {
        "id": "gukcTUtThMZJ",
        "colab_type": "text"
      },
      "cell_type": "markdown",
      "source": [
        "## Load the dataset and visualize\n",
        "\n",
        "\n",
        "There are 3 ways to do this:\n",
        "\n",
        "(a)  From Github (Files < 25MB)\n",
        "\n",
        "The easiest way to upload a CSV file is from your GitHub repository. Click on the dataset in your repository, then click on View Raw. Copy the link to the raw dataset and store it as a string variable called url in Colab as shown below (a cleaner method but it’s not necessary). The last step is to load the url into Pandas read_csv to get the dataframe.\n",
        "\n",
        "\n",
        "```\n",
        "url = 'copied_raw_GH_link'\n",
        "df1 = pd.read_csv(url)\n",
        "# Dataset is now stored in a Pandas Dataframe\n",
        "\n",
        "```\n",
        "\n",
        "---\n",
        "\n",
        "\n",
        "(b) From a local drive\n",
        "\n",
        "To upload from your local drive, start with the following code:\n",
        "\n",
        "```\n",
        "from google.colab import files\n",
        "uploaded = files.upload()\n",
        "```\n",
        "\n",
        "It will prompt you to select a file. Click on “Choose Files” then select and upload the file. Wait for the file to be 100% uploaded. You should see the name of the file once Colab has uploaded it.\n",
        "\n",
        "Finally, type in the following code to import it into a dataframe (make sure the filename matches the name of the uploaded file).\n",
        "```\n",
        "import io\n",
        "df2 = pd.read_csv(io.BytesIO(uploaded['Filename.csv']))\n",
        "# Dataset is now stored in a Pandas Dataframe\n",
        "```\n",
        "\n",
        "---\n",
        "\n",
        "\n",
        "(c) From Google drive\n",
        "\n",
        "This the most complicated of the three methods. Follow this [link](https://medium.freecodecamp.org/how-to-transfer-large-files-to-google-colab-and-remote-jupyter-notebooks-26ca252892fa) to learn more."
      ]
    },
    {
      "metadata": {
        "id": "J5ITVAYmiy5H",
        "colab_type": "code",
        "outputId": "b4bcc184-4720-41d3-f65e-57bf83511458",
        "colab": {
          "resources": {
            "http://localhost:8080/nbextensions/google.colab/files.js": {
              "data": "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",
              "ok": true,
              "headers": [
                [
                  "content-type",
                  "application/javascript"
                ]
              ],
              "status": 200,
              "status_text": "OK"
            }
          },
          "base_uri": "https://localhost:8080/",
          "height": 81
        }
      },
      "cell_type": "code",
      "source": [
        "from google.colab import files\n",
        "uploaded = files.upload()"
      ],
      "execution_count": 9,
      "outputs": [
        {
          "output_type": "display_data",
          "data": {
            "text/html": [
              "\n",
              "     <input type=\"file\" id=\"files-04f87328-78ce-4cc2-b40f-4ddb2a9c6459\" name=\"files[]\" multiple disabled />\n",
              "     <output id=\"result-04f87328-78ce-4cc2-b40f-4ddb2a9c6459\">\n",
              "      Upload widget is only available when the cell has been executed in the\n",
              "      current browser session. Please rerun this cell to enable.\n",
              "      </output>\n",
              "      <script src=\"/nbextensions/google.colab/files.js\"></script> "
            ],
            "text/plain": [
              "<IPython.core.display.HTML object>"
            ]
          },
          "metadata": {
            "tags": []
          }
        },
        {
          "output_type": "stream",
          "text": [
            "Saving check.csv to check (1).csv\n"
          ],
          "name": "stdout"
        }
      ]
    },
    {
      "metadata": {
        "id": "fQLFDGIQjrh-",
        "colab_type": "code",
        "outputId": "005d6a9e-3e1d-4fba-fcbf-13404b751998",
        "colab": {
          "base_uri": "https://localhost:8080/",
          "height": 35
        }
      },
      "cell_type": "code",
      "source": [
        "type(uploaded), uploaded.keys(), type(uploaded['check.csv'])"
      ],
      "execution_count": 12,
      "outputs": [
        {
          "output_type": "execute_result",
          "data": {
            "text/plain": [
              "(dict, dict_keys(['check.csv']), bytes)"
            ]
          },
          "metadata": {
            "tags": []
          },
          "execution_count": 12
        }
      ]
    },
    {
      "metadata": {
        "id": "o7sqK9HKoGzv",
        "colab_type": "code",
        "outputId": "3c431b39-fde2-4780-c7c2-a7466c9cd894",
        "colab": {
          "base_uri": "https://localhost:8080/",
          "height": 35
        }
      },
      "cell_type": "code",
      "source": [
        "import io\n",
        "df = pd.read_csv(io.StringIO(uploaded['check.csv'].decode('utf-8')), sep='\\t')\n",
        "df.columns"
      ],
      "execution_count": 46,
      "outputs": [
        {
          "output_type": "execute_result",
          "data": {
            "text/plain": [
              "Index(['text', 'label'], dtype='object')"
            ]
          },
          "metadata": {
            "tags": []
          },
          "execution_count": 46
        }
      ]
    },
    {
      "metadata": {
        "id": "T3j2zpO1wM1G",
        "colab_type": "code",
        "colab": {
          "base_uri": "https://localhost:8080/",
          "height": 71
        },
        "outputId": "60a637a1-bca5-48da-e54f-0801c88a84ce"
      },
      "cell_type": "code",
      "source": [
        "df['text'] = df['text'].astype('str')\n",
        "df.dtypes"
      ],
      "execution_count": 47,
      "outputs": [
        {
          "output_type": "execute_result",
          "data": {
            "text/plain": [
              "text     object\n",
              "label     int64\n",
              "dtype: object"
            ]
          },
          "metadata": {
            "tags": []
          },
          "execution_count": 47
        }
      ]
    },
    {
      "metadata": {
        "id": "n3E2eUKolVBI",
        "colab_type": "text"
      },
      "cell_type": "markdown",
      "source": [
        "## Pandas\n",
        "\n",
        "[Pandas](https://pandas.pydata.org/) is a high-performance, easy-to-use data structure and data analytics tool for Python.\n",
        "\n",
        "Tutorials:\n",
        "\n",
        "*   [Link 1](https://pandas.pydata.org/pandas-docs/stable/getting_started/tutorials.html)\n",
        "*   [Link 2](https://www.tutorialspoint.com/python_pandas)\n",
        "*   [Link 3](https://www.dataquest.io/blog/pandas-python-tutorial/)\n",
        "\n"
      ]
    },
    {
      "metadata": {
        "id": "sgLdaButozDS",
        "colab_type": "code",
        "colab": {
          "base_uri": "https://localhost:8080/",
          "height": 53
        },
        "outputId": "ef35c95d-eb2c-44c9-b3da-f9a0b5cbcc26"
      },
      "cell_type": "code",
      "source": [
        "print('Number of Negative movie reviews', len(df[df['label']==0]))\n",
        "print('Number of Positive movie reviews', len(df[df['label']==1]))"
      ],
      "execution_count": 29,
      "outputs": [
        {
          "output_type": "stream",
          "text": [
            "Number of Negative movie reviews 246\n",
            "Number of Positive movie reviews 253\n"
          ],
          "name": "stdout"
        }
      ]
    },
    {
      "metadata": {
        "id": "KHLUDV8ZoZLG",
        "colab_type": "text"
      },
      "cell_type": "markdown",
      "source": [
        "## Data pre-processing\n",
        "The first step when building a neural network model is getting your data into the proper form to feed into the network. We'll need to encode each word with an integer. We'll also want to clean it up a bit.\n",
        "\n",
        "You can use any type of pre-processing that you see fit, based on the task. For the tutorial, i will show just one pre-processing step: **lowercasing**."
      ]
    },
    {
      "metadata": {
        "id": "eafpV8pgk5kp",
        "colab_type": "code",
        "colab": {
          "base_uri": "https://localhost:8080/",
          "height": 1992
        },
        "outputId": "9e32e4cc-9926-43c2-fdf3-117d0a4a0b15"
      },
      "cell_type": "code",
      "source": [
        "df['text1'] = map(lambda x: x.lower(), df['text'].str)\n",
        "df['text1'] = df['text1'].astype('str') \n",
        "df"
      ],
      "execution_count": 39,
      "outputs": [
        {
          "output_type": "execute_result",
          "data": {
            "text/html": [
              "<div>\n",
              "<style scoped>\n",
              "    .dataframe tbody tr th:only-of-type {\n",
              "        vertical-align: middle;\n",
              "    }\n",
              "\n",
              "    .dataframe tbody tr th {\n",
              "        vertical-align: top;\n",
              "    }\n",
              "\n",
              "    .dataframe thead th {\n",
              "        text-align: right;\n",
              "    }\n",
              "</style>\n",
              "<table border=\"1\" class=\"dataframe\">\n",
              "  <thead>\n",
              "    <tr style=\"text-align: right;\">\n",
              "      <th></th>\n",
              "      <th>text</th>\n",
              "      <th>label</th>\n",
              "      <th>text1</th>\n",
              "    </tr>\n",
              "  </thead>\n",
              "  <tbody>\n",
              "    <tr>\n",
              "      <th>0</th>\n",
              "      <td>John Waters has given us a genuinely enjoyable...</td>\n",
              "      <td>1</td>\n",
              "      <td>&lt;map object at 0x7fecfca11a90&gt;</td>\n",
              "    </tr>\n",
              "    <tr>\n",
              "      <th>1</th>\n",
              "      <td>This first two seasons of this comedy series w...</td>\n",
              "      <td>1</td>\n",
              "      <td>&lt;map object at 0x7fecfca11a90&gt;</td>\n",
              "    </tr>\n",
              "    <tr>\n",
              "      <th>2</th>\n",
              "      <td>What an unfortunate mess is \"Shiner.\" I wanted...</td>\n",
              "      <td>0</td>\n",
              "      <td>&lt;map object at 0x7fecfca11a90&gt;</td>\n",
              "    </tr>\n",
              "    <tr>\n",
              "      <th>3</th>\n",
              "      <td>I'm not entirely sure Rob Schmidt qualifies as...</td>\n",
              "      <td>1</td>\n",
              "      <td>&lt;map object at 0x7fecfca11a90&gt;</td>\n",
              "    </tr>\n",
              "    <tr>\n",
              "      <th>4</th>\n",
              "      <td>i wasn't sure whether to laugh or cry. Porrett...</td>\n",
              "      <td>0</td>\n",
              "      <td>&lt;map object at 0x7fecfca11a90&gt;</td>\n",
              "    </tr>\n",
              "    <tr>\n",
              "      <th>5</th>\n",
              "      <td>Saw this movie twice at community screenings a...</td>\n",
              "      <td>1</td>\n",
              "      <td>&lt;map object at 0x7fecfca11a90&gt;</td>\n",
              "    </tr>\n",
              "    <tr>\n",
              "      <th>6</th>\n",
              "      <td>A friend once asked me to read a screenplay of...</td>\n",
              "      <td>0</td>\n",
              "      <td>&lt;map object at 0x7fecfca11a90&gt;</td>\n",
              "    </tr>\n",
              "    <tr>\n",
              "      <th>7</th>\n",
              "      <td>........and an extremely bad one at that!!! Ho...</td>\n",
              "      <td>0</td>\n",
              "      <td>&lt;map object at 0x7fecfca11a90&gt;</td>\n",
              "    </tr>\n",
              "    <tr>\n",
              "      <th>8</th>\n",
              "      <td>I've read a lot of comments about the film and...</td>\n",
              "      <td>1</td>\n",
              "      <td>&lt;map object at 0x7fecfca11a90&gt;</td>\n",
              "    </tr>\n",
              "    <tr>\n",
              "      <th>9</th>\n",
              "      <td>After having seen the movie the first question...</td>\n",
              "      <td>0</td>\n",
              "      <td>&lt;map object at 0x7fecfca11a90&gt;</td>\n",
              "    </tr>\n",
              "    <tr>\n",
              "      <th>10</th>\n",
              "      <td>There are so many puns to play on the title of...</td>\n",
              "      <td>0</td>\n",
              "      <td>&lt;map object at 0x7fecfca11a90&gt;</td>\n",
              "    </tr>\n",
              "    <tr>\n",
              "      <th>11</th>\n",
              "      <td>I absolutely loved this movie. It met all expe...</td>\n",
              "      <td>1</td>\n",
              "      <td>&lt;map object at 0x7fecfca11a90&gt;</td>\n",
              "    </tr>\n",
              "    <tr>\n",
              "      <th>12</th>\n",
              "      <td>This is a film that everyone should watch. Qui...</td>\n",
              "      <td>1</td>\n",
              "      <td>&lt;map object at 0x7fecfca11a90&gt;</td>\n",
              "    </tr>\n",
              "    <tr>\n",
              "      <th>13</th>\n",
              "      <td>What a shame that a really competent director ...</td>\n",
              "      <td>0</td>\n",
              "      <td>&lt;map object at 0x7fecfca11a90&gt;</td>\n",
              "    </tr>\n",
              "    <tr>\n",
              "      <th>14</th>\n",
              "      <td>This is about a mad scientist who creates a ha...</td>\n",
              "      <td>1</td>\n",
              "      <td>&lt;map object at 0x7fecfca11a90&gt;</td>\n",
              "    </tr>\n",
              "    <tr>\n",
              "      <th>15</th>\n",
              "      <td>Loved this show...smart acting, smart dialog, ...</td>\n",
              "      <td>1</td>\n",
              "      <td>&lt;map object at 0x7fecfca11a90&gt;</td>\n",
              "    </tr>\n",
              "    <tr>\n",
              "      <th>16</th>\n",
              "      <td>86 wasted minutes of my life. I fell asleep th...</td>\n",
              "      <td>0</td>\n",
              "      <td>&lt;map object at 0x7fecfca11a90&gt;</td>\n",
              "    </tr>\n",
              "    <tr>\n",
              "      <th>17</th>\n",
              "      <td>This is a way cool fantasy movie. One of my fa...</td>\n",
              "      <td>1</td>\n",
              "      <td>&lt;map object at 0x7fecfca11a90&gt;</td>\n",
              "    </tr>\n",
              "    <tr>\n",
              "      <th>18</th>\n",
              "      <td>Like his early masterpiece \"The Elephant Man\" ...</td>\n",
              "      <td>1</td>\n",
              "      <td>&lt;map object at 0x7fecfca11a90&gt;</td>\n",
              "    </tr>\n",
              "    <tr>\n",
              "      <th>19</th>\n",
              "      <td>I found this movie to be very well-paced. The ...</td>\n",
              "      <td>1</td>\n",
              "      <td>&lt;map object at 0x7fecfca11a90&gt;</td>\n",
              "    </tr>\n",
              "    <tr>\n",
              "      <th>20</th>\n",
              "      <td>Slow but beautifully-mounted story of the Amer...</td>\n",
              "      <td>1</td>\n",
              "      <td>&lt;map object at 0x7fecfca11a90&gt;</td>\n",
              "    </tr>\n",
              "    <tr>\n",
              "      <th>21</th>\n",
              "      <td>This show is unbelievable in that . . . what i...</td>\n",
              "      <td>0</td>\n",
              "      <td>&lt;map object at 0x7fecfca11a90&gt;</td>\n",
              "    </tr>\n",
              "    <tr>\n",
              "      <th>22</th>\n",
              "      <td>i love this TV series so much. it contains ani...</td>\n",
              "      <td>1</td>\n",
              "      <td>&lt;map object at 0x7fecfca11a90&gt;</td>\n",
              "    </tr>\n",
              "    <tr>\n",
              "      <th>23</th>\n",
              "      <td>The hysterical thing about this movie is that,...</td>\n",
              "      <td>0</td>\n",
              "      <td>&lt;map object at 0x7fecfca11a90&gt;</td>\n",
              "    </tr>\n",
              "    <tr>\n",
              "      <th>24</th>\n",
              "      <td>I got lured by the title... I was expecting an...</td>\n",
              "      <td>0</td>\n",
              "      <td>&lt;map object at 0x7fecfca11a90&gt;</td>\n",
              "    </tr>\n",
              "    <tr>\n",
              "      <th>25</th>\n",
              "      <td>This movie is a mess, but at least it's not pr...</td>\n",
              "      <td>0</td>\n",
              "      <td>&lt;map object at 0x7fecfca11a90&gt;</td>\n",
              "    </tr>\n",
              "    <tr>\n",
              "      <th>26</th>\n",
              "      <td>This movie features an o.k. score and a not ba...</td>\n",
              "      <td>0</td>\n",
              "      <td>&lt;map object at 0x7fecfca11a90&gt;</td>\n",
              "    </tr>\n",
              "    <tr>\n",
              "      <th>27</th>\n",
              "      <td>That's what the title should be, anyway.&lt;br /&gt;...</td>\n",
              "      <td>0</td>\n",
              "      <td>&lt;map object at 0x7fecfca11a90&gt;</td>\n",
              "    </tr>\n",
              "    <tr>\n",
              "      <th>28</th>\n",
              "      <td>Okay, you have:&lt;br /&gt;&lt;br /&gt;Penelope Keith as M...</td>\n",
              "      <td>0</td>\n",
              "      <td>&lt;map object at 0x7fecfca11a90&gt;</td>\n",
              "    </tr>\n",
              "    <tr>\n",
              "      <th>29</th>\n",
              "      <td>This is one a most famous movies of the French...</td>\n",
              "      <td>1</td>\n",
              "      <td>&lt;map object at 0x7fecfca11a90&gt;</td>\n",
              "    </tr>\n",
              "    <tr>\n",
              "      <th>...</th>\n",
              "      <td>...</td>\n",
              "      <td>...</td>\n",
              "      <td>...</td>\n",
              "    </tr>\n",
              "    <tr>\n",
              "      <th>469</th>\n",
              "      <td>The acting is pretty cheesy, but for the peopl...</td>\n",
              "      <td>1</td>\n",
              "      <td>&lt;map object at 0x7fecfca11a90&gt;</td>\n",
              "    </tr>\n",
              "    <tr>\n",
              "      <th>470</th>\n",
              "      <td>Yes, Kazaam is one of those horribly bad movie...</td>\n",
              "      <td>0</td>\n",
              "      <td>&lt;map object at 0x7fecfca11a90&gt;</td>\n",
              "    </tr>\n",
              "    <tr>\n",
              "      <th>471</th>\n",
              "      <td>Although I had seen \"Gymkata\" in a theater way...</td>\n",
              "      <td>0</td>\n",
              "      <td>&lt;map object at 0x7fecfca11a90&gt;</td>\n",
              "    </tr>\n",
              "    <tr>\n",
              "      <th>472</th>\n",
              "      <td>A fine western, following the fate of those wh...</td>\n",
              "      <td>1</td>\n",
              "      <td>&lt;map object at 0x7fecfca11a90&gt;</td>\n",
              "    </tr>\n",
              "    <tr>\n",
              "      <th>473</th>\n",
              "      <td>Had this movie been made a few years later, I ...</td>\n",
              "      <td>1</td>\n",
              "      <td>&lt;map object at 0x7fecfca11a90&gt;</td>\n",
              "    </tr>\n",
              "    <tr>\n",
              "      <th>474</th>\n",
              "      <td>Hilarious, evocative, confusing, brilliant fil...</td>\n",
              "      <td>1</td>\n",
              "      <td>&lt;map object at 0x7fecfca11a90&gt;</td>\n",
              "    </tr>\n",
              "    <tr>\n",
              "      <th>475</th>\n",
              "      <td>Want to know the secret to making a slasher fi...</td>\n",
              "      <td>0</td>\n",
              "      <td>&lt;map object at 0x7fecfca11a90&gt;</td>\n",
              "    </tr>\n",
              "    <tr>\n",
              "      <th>476</th>\n",
              "      <td>It takes patience to get through David Lynch's...</td>\n",
              "      <td>1</td>\n",
              "      <td>&lt;map object at 0x7fecfca11a90&gt;</td>\n",
              "    </tr>\n",
              "    <tr>\n",
              "      <th>477</th>\n",
              "      <td>Disney? What happened? I really wish the movie...</td>\n",
              "      <td>0</td>\n",
              "      <td>&lt;map object at 0x7fecfca11a90&gt;</td>\n",
              "    </tr>\n",
              "    <tr>\n",
              "      <th>478</th>\n",
              "      <td>I live in Salt Lake City and I'm not a Mormon,...</td>\n",
              "      <td>0</td>\n",
              "      <td>&lt;map object at 0x7fecfca11a90&gt;</td>\n",
              "    </tr>\n",
              "    <tr>\n",
              "      <th>479</th>\n",
              "      <td>Having developed a critical eye for film, and ...</td>\n",
              "      <td>1</td>\n",
              "      <td>&lt;map object at 0x7fecfca11a90&gt;</td>\n",
              "    </tr>\n",
              "    <tr>\n",
              "      <th>480</th>\n",
              "      <td>Wonderland is the fascinating film chronicling...</td>\n",
              "      <td>1</td>\n",
              "      <td>&lt;map object at 0x7fecfca11a90&gt;</td>\n",
              "    </tr>\n",
              "    <tr>\n",
              "      <th>481</th>\n",
              "      <td>Gee, what a heck of a movie!... I said I wante...</td>\n",
              "      <td>0</td>\n",
              "      <td>&lt;map object at 0x7fecfca11a90&gt;</td>\n",
              "    </tr>\n",
              "    <tr>\n",
              "      <th>482</th>\n",
              "      <td>Anyone not aware of the 1973 original British ...</td>\n",
              "      <td>0</td>\n",
              "      <td>&lt;map object at 0x7fecfca11a90&gt;</td>\n",
              "    </tr>\n",
              "    <tr>\n",
              "      <th>483</th>\n",
              "      <td>As with most of Ben Affleck's movies, the come...</td>\n",
              "      <td>0</td>\n",
              "      <td>&lt;map object at 0x7fecfca11a90&gt;</td>\n",
              "    </tr>\n",
              "    <tr>\n",
              "      <th>484</th>\n",
              "      <td>Vulpine Massacre should have been this movies ...</td>\n",
              "      <td>0</td>\n",
              "      <td>&lt;map object at 0x7fecfca11a90&gt;</td>\n",
              "    </tr>\n",
              "    <tr>\n",
              "      <th>485</th>\n",
              "      <td>As the one-line summary says, two movies have ...</td>\n",
              "      <td>1</td>\n",
              "      <td>&lt;map object at 0x7fecfca11a90&gt;</td>\n",
              "    </tr>\n",
              "    <tr>\n",
              "      <th>486</th>\n",
              "      <td>I really enjoyed this movie. I am a single dad...</td>\n",
              "      <td>1</td>\n",
              "      <td>&lt;map object at 0x7fecfca11a90&gt;</td>\n",
              "    </tr>\n",
              "    <tr>\n",
              "      <th>487</th>\n",
              "      <td>This Drummond entry is lacking in continuity. ...</td>\n",
              "      <td>0</td>\n",
              "      <td>&lt;map object at 0x7fecfca11a90&gt;</td>\n",
              "    </tr>\n",
              "    <tr>\n",
              "      <th>488</th>\n",
              "      <td>Just saw the movie, and the scary thing was, t...</td>\n",
              "      <td>1</td>\n",
              "      <td>&lt;map object at 0x7fecfca11a90&gt;</td>\n",
              "    </tr>\n",
              "    <tr>\n",
              "      <th>489</th>\n",
              "      <td>Although I'm grateful this obscure gem of 70's...</td>\n",
              "      <td>1</td>\n",
              "      <td>&lt;map object at 0x7fecfca11a90&gt;</td>\n",
              "    </tr>\n",
              "    <tr>\n",
              "      <th>490</th>\n",
              "      <td>Kevin Spacey is very talented, but unfortunate...</td>\n",
              "      <td>0</td>\n",
              "      <td>&lt;map object at 0x7fecfca11a90&gt;</td>\n",
              "    </tr>\n",
              "    <tr>\n",
              "      <th>491</th>\n",
              "      <td>In complete contrast to the opinions of the ot...</td>\n",
              "      <td>1</td>\n",
              "      <td>&lt;map object at 0x7fecfca11a90&gt;</td>\n",
              "    </tr>\n",
              "    <tr>\n",
              "      <th>492</th>\n",
              "      <td>i'm being generous giving this movie 2 stars. ...</td>\n",
              "      <td>0</td>\n",
              "      <td>&lt;map object at 0x7fecfca11a90&gt;</td>\n",
              "    </tr>\n",
              "    <tr>\n",
              "      <th>493</th>\n",
              "      <td>If Mulder was looking for his real father here...</td>\n",
              "      <td>1</td>\n",
              "      <td>&lt;map object at 0x7fecfca11a90&gt;</td>\n",
              "    </tr>\n",
              "    <tr>\n",
              "      <th>494</th>\n",
              "      <td>I enjoyed watching Cliffhanger, at the beginni...</td>\n",
              "      <td>1</td>\n",
              "      <td>&lt;map object at 0x7fecfca11a90&gt;</td>\n",
              "    </tr>\n",
              "    <tr>\n",
              "      <th>495</th>\n",
              "      <td>This absolute trash is based so closely on the...</td>\n",
              "      <td>0</td>\n",
              "      <td>&lt;map object at 0x7fecfca11a90&gt;</td>\n",
              "    </tr>\n",
              "    <tr>\n",
              "      <th>496</th>\n",
              "      <td>Gosha's last great film of the 1960's. A resol...</td>\n",
              "      <td>1</td>\n",
              "      <td>&lt;map object at 0x7fecfca11a90&gt;</td>\n",
              "    </tr>\n",
              "    <tr>\n",
              "      <th>497</th>\n",
              "      <td>This movie starts out brisk, has some slow mom...</td>\n",
              "      <td>1</td>\n",
              "      <td>&lt;map object at 0x7fecfca11a90&gt;</td>\n",
              "    </tr>\n",
              "    <tr>\n",
              "      <th>498</th>\n",
              "      <td>WHITE FIRE was recommended to me by a guy who ...</td>\n",
              "      <td>1</td>\n",
              "      <td>&lt;map object at 0x7fecfca11a90&gt;</td>\n",
              "    </tr>\n",
              "  </tbody>\n",
              "</table>\n",
              "<p>499 rows × 3 columns</p>\n",
              "</div>"
            ],
            "text/plain": [
              "                                                  text  label  \\\n",
              "0    John Waters has given us a genuinely enjoyable...      1   \n",
              "1    This first two seasons of this comedy series w...      1   \n",
              "2    What an unfortunate mess is \"Shiner.\" I wanted...      0   \n",
              "3    I'm not entirely sure Rob Schmidt qualifies as...      1   \n",
              "4    i wasn't sure whether to laugh or cry. Porrett...      0   \n",
              "5    Saw this movie twice at community screenings a...      1   \n",
              "6    A friend once asked me to read a screenplay of...      0   \n",
              "7    ........and an extremely bad one at that!!! Ho...      0   \n",
              "8    I've read a lot of comments about the film and...      1   \n",
              "9    After having seen the movie the first question...      0   \n",
              "10   There are so many puns to play on the title of...      0   \n",
              "11   I absolutely loved this movie. It met all expe...      1   \n",
              "12   This is a film that everyone should watch. Qui...      1   \n",
              "13   What a shame that a really competent director ...      0   \n",
              "14   This is about a mad scientist who creates a ha...      1   \n",
              "15   Loved this show...smart acting, smart dialog, ...      1   \n",
              "16   86 wasted minutes of my life. I fell asleep th...      0   \n",
              "17   This is a way cool fantasy movie. One of my fa...      1   \n",
              "18   Like his early masterpiece \"The Elephant Man\" ...      1   \n",
              "19   I found this movie to be very well-paced. The ...      1   \n",
              "20   Slow but beautifully-mounted story of the Amer...      1   \n",
              "21   This show is unbelievable in that . . . what i...      0   \n",
              "22   i love this TV series so much. it contains ani...      1   \n",
              "23   The hysterical thing about this movie is that,...      0   \n",
              "24   I got lured by the title... I was expecting an...      0   \n",
              "25   This movie is a mess, but at least it's not pr...      0   \n",
              "26   This movie features an o.k. score and a not ba...      0   \n",
              "27   That's what the title should be, anyway.<br />...      0   \n",
              "28   Okay, you have:<br /><br />Penelope Keith as M...      0   \n",
              "29   This is one a most famous movies of the French...      1   \n",
              "..                                                 ...    ...   \n",
              "469  The acting is pretty cheesy, but for the peopl...      1   \n",
              "470  Yes, Kazaam is one of those horribly bad movie...      0   \n",
              "471  Although I had seen \"Gymkata\" in a theater way...      0   \n",
              "472  A fine western, following the fate of those wh...      1   \n",
              "473  Had this movie been made a few years later, I ...      1   \n",
              "474  Hilarious, evocative, confusing, brilliant fil...      1   \n",
              "475  Want to know the secret to making a slasher fi...      0   \n",
              "476  It takes patience to get through David Lynch's...      1   \n",
              "477  Disney? What happened? I really wish the movie...      0   \n",
              "478  I live in Salt Lake City and I'm not a Mormon,...      0   \n",
              "479  Having developed a critical eye for film, and ...      1   \n",
              "480  Wonderland is the fascinating film chronicling...      1   \n",
              "481  Gee, what a heck of a movie!... I said I wante...      0   \n",
              "482  Anyone not aware of the 1973 original British ...      0   \n",
              "483  As with most of Ben Affleck's movies, the come...      0   \n",
              "484  Vulpine Massacre should have been this movies ...      0   \n",
              "485  As the one-line summary says, two movies have ...      1   \n",
              "486  I really enjoyed this movie. I am a single dad...      1   \n",
              "487  This Drummond entry is lacking in continuity. ...      0   \n",
              "488  Just saw the movie, and the scary thing was, t...      1   \n",
              "489  Although I'm grateful this obscure gem of 70's...      1   \n",
              "490  Kevin Spacey is very talented, but unfortunate...      0   \n",
              "491  In complete contrast to the opinions of the ot...      1   \n",
              "492  i'm being generous giving this movie 2 stars. ...      0   \n",
              "493  If Mulder was looking for his real father here...      1   \n",
              "494  I enjoyed watching Cliffhanger, at the beginni...      1   \n",
              "495  This absolute trash is based so closely on the...      0   \n",
              "496  Gosha's last great film of the 1960's. A resol...      1   \n",
              "497  This movie starts out brisk, has some slow mom...      1   \n",
              "498  WHITE FIRE was recommended to me by a guy who ...      1   \n",
              "\n",
              "                              text1  \n",
              "0    <map object at 0x7fecfca11a90>  \n",
              "1    <map object at 0x7fecfca11a90>  \n",
              "2    <map object at 0x7fecfca11a90>  \n",
              "3    <map object at 0x7fecfca11a90>  \n",
              "4    <map object at 0x7fecfca11a90>  \n",
              "5    <map object at 0x7fecfca11a90>  \n",
              "6    <map object at 0x7fecfca11a90>  \n",
              "7    <map object at 0x7fecfca11a90>  \n",
              "8    <map object at 0x7fecfca11a90>  \n",
              "9    <map object at 0x7fecfca11a90>  \n",
              "10   <map object at 0x7fecfca11a90>  \n",
              "11   <map object at 0x7fecfca11a90>  \n",
              "12   <map object at 0x7fecfca11a90>  \n",
              "13   <map object at 0x7fecfca11a90>  \n",
              "14   <map object at 0x7fecfca11a90>  \n",
              "15   <map object at 0x7fecfca11a90>  \n",
              "16   <map object at 0x7fecfca11a90>  \n",
              "17   <map object at 0x7fecfca11a90>  \n",
              "18   <map object at 0x7fecfca11a90>  \n",
              "19   <map object at 0x7fecfca11a90>  \n",
              "20   <map object at 0x7fecfca11a90>  \n",
              "21   <map object at 0x7fecfca11a90>  \n",
              "22   <map object at 0x7fecfca11a90>  \n",
              "23   <map object at 0x7fecfca11a90>  \n",
              "24   <map object at 0x7fecfca11a90>  \n",
              "25   <map object at 0x7fecfca11a90>  \n",
              "26   <map object at 0x7fecfca11a90>  \n",
              "27   <map object at 0x7fecfca11a90>  \n",
              "28   <map object at 0x7fecfca11a90>  \n",
              "29   <map object at 0x7fecfca11a90>  \n",
              "..                              ...  \n",
              "469  <map object at 0x7fecfca11a90>  \n",
              "470  <map object at 0x7fecfca11a90>  \n",
              "471  <map object at 0x7fecfca11a90>  \n",
              "472  <map object at 0x7fecfca11a90>  \n",
              "473  <map object at 0x7fecfca11a90>  \n",
              "474  <map object at 0x7fecfca11a90>  \n",
              "475  <map object at 0x7fecfca11a90>  \n",
              "476  <map object at 0x7fecfca11a90>  \n",
              "477  <map object at 0x7fecfca11a90>  \n",
              "478  <map object at 0x7fecfca11a90>  \n",
              "479  <map object at 0x7fecfca11a90>  \n",
              "480  <map object at 0x7fecfca11a90>  \n",
              "481  <map object at 0x7fecfca11a90>  \n",
              "482  <map object at 0x7fecfca11a90>  \n",
              "483  <map object at 0x7fecfca11a90>  \n",
              "484  <map object at 0x7fecfca11a90>  \n",
              "485  <map object at 0x7fecfca11a90>  \n",
              "486  <map object at 0x7fecfca11a90>  \n",
              "487  <map object at 0x7fecfca11a90>  \n",
              "488  <map object at 0x7fecfca11a90>  \n",
              "489  <map object at 0x7fecfca11a90>  \n",
              "490  <map object at 0x7fecfca11a90>  \n",
              "491  <map object at 0x7fecfca11a90>  \n",
              "492  <map object at 0x7fecfca11a90>  \n",
              "493  <map object at 0x7fecfca11a90>  \n",
              "494  <map object at 0x7fecfca11a90>  \n",
              "495  <map object at 0x7fecfca11a90>  \n",
              "496  <map object at 0x7fecfca11a90>  \n",
              "497  <map object at 0x7fecfca11a90>  \n",
              "498  <map object at 0x7fecfca11a90>  \n",
              "\n",
              "[499 rows x 3 columns]"
            ]
          },
          "metadata": {
            "tags": []
          },
          "execution_count": 39
        }
      ]
    },
    {
      "metadata": {
        "id": "s7IWD6ZXuLFc",
        "colab_type": "code",
        "colab": {
          "base_uri": "https://localhost:8080/",
          "height": 35
        },
        "outputId": "d22bc35b-d848-4904-c655-ac9124b84103"
      },
      "cell_type": "code",
      "source": [
        "df.columns"
      ],
      "execution_count": 42,
      "outputs": [
        {
          "output_type": "execute_result",
          "data": {
            "text/plain": [
              "Index(['text', 'label'], dtype='object')"
            ]
          },
          "metadata": {
            "tags": []
          },
          "execution_count": 42
        }
      ]
    },
    {
      "metadata": {
        "id": "HLlNt4uVv_J-",
        "colab_type": "code",
        "colab": {}
      },
      "cell_type": "code",
      "source": [
        ""
      ],
      "execution_count": 0,
      "outputs": []
    }
  ]
}